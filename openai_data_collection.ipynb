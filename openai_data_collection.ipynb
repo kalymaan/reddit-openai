{
 "cells": [
  {
   "cell_type": "code",
   "execution_count": 44,
   "id": "f5c0086e-eefa-45b5-9ebc-c544773439bf",
   "metadata": {
    "tags": []
   },
   "outputs": [],
   "source": [
    "import pandas as pd\n",
    "import openai\n",
    "import os\n",
    "from dotenv import load_dotenv\n",
    "import time\n"
   ]
  },
  {
   "cell_type": "code",
   "execution_count": 2,
   "id": "224ad040-9358-430b-befa-28f288f8b2ec",
   "metadata": {
    "tags": []
   },
   "outputs": [],
   "source": [
    "df = pd.read_csv('data/reddit_questions.csv')"
   ]
  },
  {
   "cell_type": "code",
   "execution_count": 3,
   "id": "4f2ba8c7-425a-4139-b5b5-14a7ddf4ecbd",
   "metadata": {
    "tags": []
   },
   "outputs": [
    {
     "data": {
      "text/html": [
       "<div>\n",
       "<style scoped>\n",
       "    .dataframe tbody tr th:only-of-type {\n",
       "        vertical-align: middle;\n",
       "    }\n",
       "\n",
       "    .dataframe tbody tr th {\n",
       "        vertical-align: top;\n",
       "    }\n",
       "\n",
       "    .dataframe thead th {\n",
       "        text-align: right;\n",
       "    }\n",
       "</style>\n",
       "<table border=\"1\" class=\"dataframe\">\n",
       "  <thead>\n",
       "    <tr style=\"text-align: right;\">\n",
       "      <th></th>\n",
       "      <th>Unnamed: 0</th>\n",
       "      <th>Subreddit</th>\n",
       "      <th>Questions</th>\n",
       "      <th>Human_Answer</th>\n",
       "    </tr>\n",
       "  </thead>\n",
       "  <tbody>\n",
       "    <tr>\n",
       "      <th>0</th>\n",
       "      <td>0</td>\n",
       "      <td>TrueAskReddit</td>\n",
       "      <td>Why does the president seem so personally inte...</td>\n",
       "      <td>I've been reading through these comments, and ...</td>\n",
       "    </tr>\n",
       "    <tr>\n",
       "      <th>1</th>\n",
       "      <td>1</td>\n",
       "      <td>TrueAskReddit</td>\n",
       "      <td>How did you end up in your career path? Are yo...</td>\n",
       "      <td>i'm a massage therapist. not the seaweed wrap ...</td>\n",
       "    </tr>\n",
       "    <tr>\n",
       "      <th>2</th>\n",
       "      <td>2</td>\n",
       "      <td>TrueAskReddit</td>\n",
       "      <td>Why does the world come together spending hund...</td>\n",
       "      <td>Being blunt but here are my two big factors:\\n...</td>\n",
       "    </tr>\n",
       "    <tr>\n",
       "      <th>3</th>\n",
       "      <td>3</td>\n",
       "      <td>TrueAskReddit</td>\n",
       "      <td>What atrocities are occurring around the world...</td>\n",
       "      <td>My heart is particularly called out to the Con...</td>\n",
       "    </tr>\n",
       "    <tr>\n",
       "      <th>4</th>\n",
       "      <td>4</td>\n",
       "      <td>TrueAskReddit</td>\n",
       "      <td>How can a male boss better lookout and protect...</td>\n",
       "      <td>By firing the guy you already did more than yo...</td>\n",
       "    </tr>\n",
       "  </tbody>\n",
       "</table>\n",
       "</div>"
      ],
      "text/plain": [
       "   Unnamed: 0      Subreddit  \\\n",
       "0           0  TrueAskReddit   \n",
       "1           1  TrueAskReddit   \n",
       "2           2  TrueAskReddit   \n",
       "3           3  TrueAskReddit   \n",
       "4           4  TrueAskReddit   \n",
       "\n",
       "                                           Questions  \\\n",
       "0  Why does the president seem so personally inte...   \n",
       "1  How did you end up in your career path? Are yo...   \n",
       "2  Why does the world come together spending hund...   \n",
       "3  What atrocities are occurring around the world...   \n",
       "4  How can a male boss better lookout and protect...   \n",
       "\n",
       "                                        Human_Answer  \n",
       "0  I've been reading through these comments, and ...  \n",
       "1  i'm a massage therapist. not the seaweed wrap ...  \n",
       "2  Being blunt but here are my two big factors:\\n...  \n",
       "3  My heart is particularly called out to the Con...  \n",
       "4  By firing the guy you already did more than yo...  "
      ]
     },
     "execution_count": 3,
     "metadata": {},
     "output_type": "execute_result"
    }
   ],
   "source": [
    "df.head()"
   ]
  },
  {
   "cell_type": "markdown",
   "id": "ee5285d1-16e0-4da2-9511-b684ae486e02",
   "metadata": {
    "jupyter": {
     "source_hidden": true
    },
    "tags": []
   },
   "source": [
    "The following is only necessary when working with the first version of 'reddit_questions.csv'"
   ]
  },
  {
   "cell_type": "code",
   "execution_count": 4,
   "id": "e4fed586-cca6-4c9d-a23d-8614db7c6f90",
   "metadata": {
    "tags": []
   },
   "outputs": [],
   "source": [
    "mask = df['Human_Answer'] == '[deleted]'\n",
    "\n",
    "d = df[~mask]"
   ]
  },
  {
   "cell_type": "code",
   "execution_count": 5,
   "id": "ed3f72d3-b0ad-4c39-ae3a-0400012b760a",
   "metadata": {
    "collapsed": true,
    "jupyter": {
     "outputs_hidden": true
    },
    "tags": []
   },
   "outputs": [
    {
     "data": {
      "text/plain": [
       "(4615, 4)"
      ]
     },
     "execution_count": 5,
     "metadata": {},
     "output_type": "execute_result"
    }
   ],
   "source": [
    "df.shape"
   ]
  },
  {
   "cell_type": "code",
   "execution_count": 6,
   "id": "eb759e14-4c4e-4385-aa48-baabaf5c42cc",
   "metadata": {
    "tags": []
   },
   "outputs": [
    {
     "data": {
      "text/plain": [
       "(4400, 4)"
      ]
     },
     "execution_count": 6,
     "metadata": {},
     "output_type": "execute_result"
    }
   ],
   "source": [
    "d.shape"
   ]
  },
  {
   "cell_type": "code",
   "execution_count": 7,
   "id": "3f54f45e-cef6-4629-946d-46cded5f732b",
   "metadata": {
    "tags": []
   },
   "outputs": [
    {
     "data": {
      "text/plain": [
       "True"
      ]
     },
     "execution_count": 7,
     "metadata": {},
     "output_type": "execute_result"
    }
   ],
   "source": [
    "load_dotenv()  "
   ]
  },
  {
   "cell_type": "code",
   "execution_count": 8,
   "id": "8c2cd185-eacd-418f-896d-b342dbc1b47f",
   "metadata": {
    "tags": []
   },
   "outputs": [],
   "source": [
    "openai.api_key = os.environ.get('OPENAI_API_KEY')"
   ]
  },
  {
   "cell_type": "code",
   "execution_count": 10,
   "id": "6df320bc-e1eb-47d0-984e-63899b9d1f47",
   "metadata": {
    "tags": []
   },
   "outputs": [],
   "source": [
    "test_prompt = \"Hi,how are you?\""
   ]
  },
  {
   "cell_type": "code",
   "execution_count": 11,
   "id": "f78bc702-39aa-495b-bc6c-2efa034ff7ff",
   "metadata": {
    "tags": []
   },
   "outputs": [],
   "source": [
    "response = openai.ChatCompletion.create(\n",
    "    model = 'gpt-3.5-turbo',\n",
    "    messages = [{'role':'user','content':test_prompt}],\n",
    "    temperature = 0.5,\n",
    "    max_tokens = 500\n",
    "\n",
    ")"
   ]
  },
  {
   "cell_type": "code",
   "execution_count": 12,
   "id": "66945689-01cf-4eca-91a3-6ff55c7a8b8a",
   "metadata": {
    "tags": []
   },
   "outputs": [
    {
     "data": {
      "text/plain": [
       "\"Hello! I'm an AI, so I don't have feelings, but I'm here to help. How can I assist you today?\""
      ]
     },
     "execution_count": 12,
     "metadata": {},
     "output_type": "execute_result"
    }
   ],
   "source": [
    "response['choices'][0]['message']['content']"
   ]
  },
  {
   "cell_type": "code",
   "execution_count": 15,
   "id": "1e75f576-0f29-4db5-85f6-8829ee47cdbb",
   "metadata": {
    "tags": []
   },
   "outputs": [],
   "source": [
    "davinci_prompts = list(d['Questions'][:10])"
   ]
  },
  {
   "cell_type": "code",
   "execution_count": null,
   "id": "09ae9651-fb23-437c-a9a1-4bdade589a63",
   "metadata": {},
   "outputs": [],
   "source": []
  },
  {
   "cell_type": "code",
   "execution_count": 31,
   "id": "5a30bb3e-8786-4117-9c07-e05fc06aadf3",
   "metadata": {
    "tags": []
   },
   "outputs": [],
   "source": [
    "dv_response = openai.Completion.create(\n",
    "    model = 'text-curie-001',\n",
    "    prompt = davinci_prompts,\n",
    "    temperature = 0.6,\n",
    "    max_tokens = 250\n",
    ")"
   ]
  },
  {
   "cell_type": "code",
   "execution_count": 30,
   "id": "b4c5a487-6a57-48d3-b230-77a40f357aa1",
   "metadata": {
    "tags": []
   },
   "outputs": [
    {
     "data": {
      "text/plain": [
       "<OpenAIObject at 0x29b2a310110> JSON: {\n",
       "  \"prompt_tokens\": 289,\n",
       "  \"completion_tokens\": 1321,\n",
       "  \"total_tokens\": 1610\n",
       "}"
      ]
     },
     "execution_count": 30,
     "metadata": {},
     "output_type": "execute_result"
    }
   ],
   "source": [
    "dv_response['usage']"
   ]
  },
  {
   "cell_type": "code",
   "execution_count": 20,
   "id": "7e8443ac-456e-4175-bf34-2bab5caee735",
   "metadata": {
    "tags": []
   },
   "outputs": [
    {
     "data": {
      "text/plain": [
       "<OpenAIObject at 0x29b2a0a85f0> JSON: {\n",
       "  \"text\": \"\\n\\nThe president likely feels a personal responsibility to respond to the use of chemical weapons in Syria. This is due to the moral imperative of preventing the use of weapons of mass destruction, as well as the need to uphold international norms of behavior. The president may also feel a sense of personal responsibility to protect innocent civilians in Syria who have been affected by the conflict.\",\n",
       "  \"index\": 0,\n",
       "  \"logprobs\": null,\n",
       "  \"finish_reason\": \"stop\"\n",
       "}"
      ]
     },
     "execution_count": 20,
     "metadata": {},
     "output_type": "execute_result"
    }
   ],
   "source": [
    "dv_response['choices'][0]"
   ]
  },
  {
   "cell_type": "code",
   "execution_count": 32,
   "id": "1efe6779-501d-498d-99c0-8f3c0072d109",
   "metadata": {
    "collapsed": true,
    "jupyter": {
     "outputs_hidden": true
    },
    "tags": []
   },
   "outputs": [
    {
     "name": "stdout",
     "output_type": "stream",
     "text": [
      "Why does the president seem so personally interested in action against Syria?:\n",
      " \n",
      "\n",
      "Some have speculated that the president is personally interested in action against Syria because he is a strong supporter of the anti-Assad rebels. Others have suggested that the president is concerned about the possible humanitarian consequences of a military intervention in Syria. \n",
      "\n",
      "How did you end up in your career path? Are you happy with it?:\n",
      " \n",
      "\n",
      "I initially pursued a degree in biomedical engineering, but I quickly realized that I wanted to work in the health care industry. After completing my undergraduate degree, I worked as a research associate in a biomedical research lab. I then moved to a hospital where I worked as a research scientist. After about five years, I decided that I wanted to move into a healthcare leadership role. I pursued a master's degree in healthcare leadership and management, and I now work as a director of research and development in a healthcare company. I am very happy with my career path, and I love working in the health care industry. \n",
      "\n",
      "Why does the world come together spending hundreds of thousands or millions of dollars to launch rescue efforts for a group of people who simply made an unwise decision, but nobody lifts a finger if a one-off person makes an unwise financial decision or suffers an accident that cripples them?:\n",
      " \n",
      "\n",
      "There are a few reasons. First, people generally care more about others who are close to them, like family and friends. Second, it can be harder to justify spending money on someone who is not part of our \"group.\" Third, it can be more difficult to get people to donate money or time to help someone who is not a member of our community. \n",
      "\n",
      "What atrocities are occurring around the world right now, and what actions can an individual take to help rectify them?:\n",
      " \n",
      "\n",
      "The atrocities occurring around the world right now include the Syrian Civil War, the Boko Haram terrorist group, the Islamic State of Iraq and Syria (ISIS), and the Rohingya crisis in Myanmar. There are a number of things that an individual can do to help rectify these situations. They can donate money to organizations working to help these groups, they can write letters to their elected officials urging them to take action, and they can participate in protests and marches. \n",
      "\n",
      "How can a male boss better lookout and protect his female employees from being sexually harassed?:\n",
      " \n",
      "\n",
      "The best way for a male boss to better lookout and protect his female employees from being sexually harassed is to be aware of the signs and to have a policy in place that addresses sexual harassment. Additionally, the boss should make sure that he is communicating effectively with his employees about sexual harassment and that they know how to report any incidents. \n",
      "\n",
      "Americans, would you like to see an end of the two-party system?:\n",
      " \n",
      "\n",
      "There is no one answer to this question as people have different opinions on the matter. However, some people feel that the two-party system is outdated and doesn't reflect the views of most Americans. Others may feel that the two-party system is necessary in order to ensure that the country is represented fairly. Ultimately, it is up to the individual to decide whether they would like to see an end to the two-party system. \n",
      "\n",
      "I feel as if too much of life is spent working. Should 40 hour work weeks really exist? Is it worth the mental/physical strain and stress, and do you think it is ridiculous or necessary?:\n",
      " \n",
      "\n",
      "I believe that 40 hour work weeks should not exist. I think that it is ridiculous and unnecessary to spend so much time working. I think that it is stressful and unfulfilling to spend so much time working. I think that it is ridiculous to spend so much time working when there are other things that we could be doing instead. \n",
      "\n",
      "Our society needs to address complex problems that require huge amounts of cooperation. Yet, I can't even convince my neighbor upstairs to be considerate of the people living below him. How are we not doomed as a species?:\n",
      " \n",
      "\n",
      "The problem is that humans are social animals, and we naturally want to cooperate with others. However, this natural tendency can sometimes lead to problems because it's difficult to get people to cooperate when they don't feel like it's in their own best interest. This is particularly true when it comes to dealing with complex problems that require a lot of cooperation.\n",
      "\n",
      "One way to try to get people to cooperate on complex problems is to create incentives for them. This means giving people a reason to cooperate, such as rewards or punishments. In some cases, it may be necessary to get people to cooperate even if they don't feel like it's in their best interest. For example, if we want to build a bridge, we may have to force the people living nearby to cooperate because they'll be the ones who have to pay for it. \n",
      "\n",
      "If the U.S. economy is \"booming\" why does it still feel like it sucks so much?:\n",
      " \n",
      "\n",
      "There are many reasons why the economy might feel \"booming\" while many people still report feeling \"sucked\" or \"stressed.\" For example, while the economy might be expanding overall, certain sectors might be contracting, causing people in those sectors to feel worse off. Additionally, while wages might be growing slightly, the cost of goods and services might be going up more quickly, making it harder for people to make ends meet. Finally, while the stock market might be doing well, many people are still struggling to get by on incomes from their jobs alone, which can make them feel even more stressed. \n",
      "\n",
      "Covid 19 stay-at-home rules cut California traffic deaths in half. Is it inappropriate to discuss why we are more accepting of some untimely deaths and less accepting of others?:\n",
      " \n",
      "\n",
      "There could be a number of reasons why some deaths are seen as more acceptable than others. For example, some deaths may be seen as natural and unavoidable, while others may be seen as avoidable. Additionally, some deaths may be considered more deserving of sympathy or mourning than others. Ultimately, it is up to each individual to decide whether or not they are comfortable discussing why they are more accepting of some untimely deaths and less accepting of others. \n",
      "\n"
     ]
    }
   ],
   "source": [
    "for i in range(len(davinci_prompts)):\n",
    "    print(davinci_prompts[i] + ':\\n', dv_response['choices'][i]['text'],'\\n')"
   ]
  },
  {
   "cell_type": "code",
   "execution_count": 26,
   "id": "8b62f559-b926-4d44-87af-f105cdda2885",
   "metadata": {
    "tags": []
   },
   "outputs": [],
   "source": [
    "response_list = [res['text'].strip() for res in dv_response['choices']]"
   ]
  },
  {
   "cell_type": "code",
   "execution_count": 27,
   "id": "49a5ff3d-d643-4bc5-b43e-7ec45fc3d0de",
   "metadata": {
    "collapsed": true,
    "jupyter": {
     "outputs_hidden": true
    },
    "tags": []
   },
   "outputs": [
    {
     "data": {
      "text/plain": [
       "['The president likely feels a personal responsibility to respond to the use of chemical weapons in Syria. This is due to the moral imperative of preventing the use of weapons of mass destruction, as well as the need to uphold international norms of behavior. The president may also feel a sense of personal responsibility to protect innocent civilians in Syria who have been affected by the conflict.',\n",
       " 'I ended up in my career path because I have always been interested in business and finance. After college, I took a job in banking and eventually moved into a finance-related role. I am very happy with my career path because I love the work I do and the challenges it presents. I also enjoy the people I work with and the opportunity to learn and grow.',\n",
       " 'The answer to this question is complex and has many factors. One of the primary motivations for the world to come together and spend large amounts of money for a rescue effort is the potential for a large loss of life if the effort is not successful. When a single person makes an unwise financial decision or suffers an accident that cripples them, the potential for a large loss of life is not present, so the motivation to come together and spend large amounts of money is not as great. Additionally, when a single person makes a mistake, the resources necessary to provide help are typically much smaller and can usually be provided by family, friends, and other personal resources. In the case of a group of people in a difficult situation, the resources needed to provide help are often much larger and require collective action from many different entities.',\n",
       " 'Atrocities occurring around the world right now include: \\n-The ongoing conflict in Syria, which has resulted in the displacement of millions of people, the death of hundreds of thousands, and the use of chemical weapons against civilians.\\n-The ongoing humanitarian crisis in Yemen, where millions of people are facing famine and the risk of disease due to the conflict and a blockade on imports.\\n-The use of torture and other human rights abuses in countries like North Korea, China, and Saudi Arabia.\\n-The continued persecution of ethnic and religious minorities in Myanmar and India.\\n-The use of child soldiers in many African countries.\\n\\nIndividuals can take action to help rectify these atrocities by:\\n-Donating to organizations providing relief to refugees and displaced people.\\n-Supporting organizations working to protect and promote human rights around the world.\\n-Educating themselves and others on the issues and advocating for positive change.\\n-Speaking out against the injustices occurring in these countries and supporting campaigns for change.\\n-Volunteering with organizations providing aid and support to those affected by conflict.',\n",
       " '1. Establish a clear policy against sexual harassment and ensure that it is widely communicated and understood by all employees.\\n\\n2. Make sure that all employees feel comfortable reporting any incidents of harassment and that they are taken seriously.\\n\\n3. Create a safe environment by setting up a culture of respect, where all employees feel comfortable speaking up about any issues.\\n\\n4. Make sure that all employees are aware of the potential consequences of engaging in sexual harassment, both for the victim and the harasser.\\n\\n5. Regularly monitor the work environment for any signs of inappropriate behaviour.\\n\\n6. Provide training on sexual harassment and make sure that everyone has a clear understanding of what constitutes inappropriate behaviour.\\n\\n7. Investigate any reports of sexual harassment and take appropriate disciplinary action.',\n",
       " 'Yes, many Americans would like to see an end to the two-party system. Many people feel that the two-party system limits their political choices and perspectives, and that a multi-party system would allow for a greater range of ideas and policies to be represented in government.',\n",
       " \"I think 40 hour work weeks are necessary, but I also think they should be balanced with adequate leisure time. Depending on the job, 40 hours may be too much for someone's mental and physical health. People need time to relax and enjoy life, and if they are stuck in the office for too long, that can take away from their quality of life. It is important to find a balance between work and leisure, so that people can maintain their mental and physical health.\",\n",
       " \"I think it's important to remember that even though it can be difficult to get everyone to cooperate, it's not impossible. We have seen throughout history how people have come together to solve major issues, and we can continue to strive for that. It's also important to remember that it's not just about convincing people to cooperate, but finding ways to make cooperation beneficial to everyone involved. By recognizing everyone's needs and working together to create mutually beneficial solutions, we can make progress on even the most complex challenges.\",\n",
       " \"There are a few reasons why it might feel like the economy is not doing as well as it is said to be. First, the economy is not growing at the same rate for everyone, so some people may not be seeing the same benefits as others. Second, the economic gains may not be translating into tangible improvements in people's lives, such as higher wages, better job opportunities, or more affordable housing. Third, the current economic expansion has been largely fueled by debt-fueled consumer spending, which can be unsustainable in the long run. Lastly, economic indicators like GDP and unemployment rates don’t always capture the full scope of economic hardship, such as income inequality, poverty, and homelessness.\",\n",
       " 'Yes, it is appropriate to discuss why we are more accepting of some untimely deaths and less accepting of others. It is important to consider the underlying social, economic, and political factors that lead to different levels of acceptance or dismissal of certain deaths. For example, one might consider how race, class, and gender shape our collective understanding of what is an acceptable loss, as well as the resources available to prevent such losses. It is also important to consider how our own personal values and beliefs influence our understanding of death and its acceptability. Ultimately, it is essential to examine why certain deaths are more accepted than others in order to better understand the root causes of death and how we can prevent them in the future.']"
      ]
     },
     "execution_count": 27,
     "metadata": {},
     "output_type": "execute_result"
    }
   ],
   "source": [
    "response_list"
   ]
  },
  {
   "cell_type": "code",
   "execution_count": 33,
   "id": "bc711572-5f6c-49c5-b8fc-d19ceeba17c9",
   "metadata": {
    "tags": []
   },
   "outputs": [
    {
     "data": {
      "text/html": [
       "<div>\n",
       "<style scoped>\n",
       "    .dataframe tbody tr th:only-of-type {\n",
       "        vertical-align: middle;\n",
       "    }\n",
       "\n",
       "    .dataframe tbody tr th {\n",
       "        vertical-align: top;\n",
       "    }\n",
       "\n",
       "    .dataframe thead th {\n",
       "        text-align: right;\n",
       "    }\n",
       "</style>\n",
       "<table border=\"1\" class=\"dataframe\">\n",
       "  <thead>\n",
       "    <tr style=\"text-align: right;\">\n",
       "      <th></th>\n",
       "      <th>Unnamed: 0</th>\n",
       "      <th>Subreddit</th>\n",
       "      <th>Questions</th>\n",
       "      <th>Human_Answer</th>\n",
       "    </tr>\n",
       "  </thead>\n",
       "  <tbody>\n",
       "    <tr>\n",
       "      <th>0</th>\n",
       "      <td>0</td>\n",
       "      <td>TrueAskReddit</td>\n",
       "      <td>Why does the president seem so personally inte...</td>\n",
       "      <td>I've been reading through these comments, and ...</td>\n",
       "    </tr>\n",
       "    <tr>\n",
       "      <th>1</th>\n",
       "      <td>1</td>\n",
       "      <td>TrueAskReddit</td>\n",
       "      <td>How did you end up in your career path? Are yo...</td>\n",
       "      <td>i'm a massage therapist. not the seaweed wrap ...</td>\n",
       "    </tr>\n",
       "    <tr>\n",
       "      <th>2</th>\n",
       "      <td>2</td>\n",
       "      <td>TrueAskReddit</td>\n",
       "      <td>Why does the world come together spending hund...</td>\n",
       "      <td>Being blunt but here are my two big factors:\\n...</td>\n",
       "    </tr>\n",
       "    <tr>\n",
       "      <th>3</th>\n",
       "      <td>3</td>\n",
       "      <td>TrueAskReddit</td>\n",
       "      <td>What atrocities are occurring around the world...</td>\n",
       "      <td>My heart is particularly called out to the Con...</td>\n",
       "    </tr>\n",
       "    <tr>\n",
       "      <th>4</th>\n",
       "      <td>4</td>\n",
       "      <td>TrueAskReddit</td>\n",
       "      <td>How can a male boss better lookout and protect...</td>\n",
       "      <td>By firing the guy you already did more than yo...</td>\n",
       "    </tr>\n",
       "  </tbody>\n",
       "</table>\n",
       "</div>"
      ],
      "text/plain": [
       "   Unnamed: 0      Subreddit  \\\n",
       "0           0  TrueAskReddit   \n",
       "1           1  TrueAskReddit   \n",
       "2           2  TrueAskReddit   \n",
       "3           3  TrueAskReddit   \n",
       "4           4  TrueAskReddit   \n",
       "\n",
       "                                           Questions  \\\n",
       "0  Why does the president seem so personally inte...   \n",
       "1  How did you end up in your career path? Are yo...   \n",
       "2  Why does the world come together spending hund...   \n",
       "3  What atrocities are occurring around the world...   \n",
       "4  How can a male boss better lookout and protect...   \n",
       "\n",
       "                                        Human_Answer  \n",
       "0  I've been reading through these comments, and ...  \n",
       "1  i'm a massage therapist. not the seaweed wrap ...  \n",
       "2  Being blunt but here are my two big factors:\\n...  \n",
       "3  My heart is particularly called out to the Con...  \n",
       "4  By firing the guy you already did more than yo...  "
      ]
     },
     "execution_count": 33,
     "metadata": {},
     "output_type": "execute_result"
    }
   ],
   "source": [
    "d.head()"
   ]
  },
  {
   "cell_type": "code",
   "execution_count": 34,
   "id": "a6eace38-8898-4dad-b7d6-ed01cc216d9e",
   "metadata": {
    "tags": []
   },
   "outputs": [
    {
     "name": "stderr",
     "output_type": "stream",
     "text": [
      "C:\\Users\\kalya\\AppData\\Local\\Temp\\ipykernel_8136\\2787529008.py:1: SettingWithCopyWarning: \n",
      "A value is trying to be set on a copy of a slice from a DataFrame.\n",
      "Try using .loc[row_indexer,col_indexer] = value instead\n",
      "\n",
      "See the caveats in the documentation: https://pandas.pydata.org/pandas-docs/stable/user_guide/indexing.html#returning-a-view-versus-a-copy\n",
      "  d['Marie_answer'] = 0\n"
     ]
    }
   ],
   "source": [
    "d['Marie_answer'] = 0"
   ]
  },
  {
   "cell_type": "code",
   "execution_count": 35,
   "id": "3770de72-2358-43a0-9cee-b1bf4cac5867",
   "metadata": {
    "tags": []
   },
   "outputs": [
    {
     "data": {
      "text/html": [
       "<div>\n",
       "<style scoped>\n",
       "    .dataframe tbody tr th:only-of-type {\n",
       "        vertical-align: middle;\n",
       "    }\n",
       "\n",
       "    .dataframe tbody tr th {\n",
       "        vertical-align: top;\n",
       "    }\n",
       "\n",
       "    .dataframe thead th {\n",
       "        text-align: right;\n",
       "    }\n",
       "</style>\n",
       "<table border=\"1\" class=\"dataframe\">\n",
       "  <thead>\n",
       "    <tr style=\"text-align: right;\">\n",
       "      <th></th>\n",
       "      <th>Unnamed: 0</th>\n",
       "      <th>Subreddit</th>\n",
       "      <th>Questions</th>\n",
       "      <th>Human_Answer</th>\n",
       "      <th>Marie_answer</th>\n",
       "    </tr>\n",
       "  </thead>\n",
       "  <tbody>\n",
       "    <tr>\n",
       "      <th>0</th>\n",
       "      <td>0</td>\n",
       "      <td>TrueAskReddit</td>\n",
       "      <td>Why does the president seem so personally inte...</td>\n",
       "      <td>I've been reading through these comments, and ...</td>\n",
       "      <td>0</td>\n",
       "    </tr>\n",
       "    <tr>\n",
       "      <th>1</th>\n",
       "      <td>1</td>\n",
       "      <td>TrueAskReddit</td>\n",
       "      <td>How did you end up in your career path? Are yo...</td>\n",
       "      <td>i'm a massage therapist. not the seaweed wrap ...</td>\n",
       "      <td>0</td>\n",
       "    </tr>\n",
       "    <tr>\n",
       "      <th>2</th>\n",
       "      <td>2</td>\n",
       "      <td>TrueAskReddit</td>\n",
       "      <td>Why does the world come together spending hund...</td>\n",
       "      <td>Being blunt but here are my two big factors:\\n...</td>\n",
       "      <td>0</td>\n",
       "    </tr>\n",
       "    <tr>\n",
       "      <th>3</th>\n",
       "      <td>3</td>\n",
       "      <td>TrueAskReddit</td>\n",
       "      <td>What atrocities are occurring around the world...</td>\n",
       "      <td>My heart is particularly called out to the Con...</td>\n",
       "      <td>0</td>\n",
       "    </tr>\n",
       "    <tr>\n",
       "      <th>4</th>\n",
       "      <td>4</td>\n",
       "      <td>TrueAskReddit</td>\n",
       "      <td>How can a male boss better lookout and protect...</td>\n",
       "      <td>By firing the guy you already did more than yo...</td>\n",
       "      <td>0</td>\n",
       "    </tr>\n",
       "  </tbody>\n",
       "</table>\n",
       "</div>"
      ],
      "text/plain": [
       "   Unnamed: 0      Subreddit  \\\n",
       "0           0  TrueAskReddit   \n",
       "1           1  TrueAskReddit   \n",
       "2           2  TrueAskReddit   \n",
       "3           3  TrueAskReddit   \n",
       "4           4  TrueAskReddit   \n",
       "\n",
       "                                           Questions  \\\n",
       "0  Why does the president seem so personally inte...   \n",
       "1  How did you end up in your career path? Are yo...   \n",
       "2  Why does the world come together spending hund...   \n",
       "3  What atrocities are occurring around the world...   \n",
       "4  How can a male boss better lookout and protect...   \n",
       "\n",
       "                                        Human_Answer  Marie_answer  \n",
       "0  I've been reading through these comments, and ...             0  \n",
       "1  i'm a massage therapist. not the seaweed wrap ...             0  \n",
       "2  Being blunt but here are my two big factors:\\n...             0  \n",
       "3  My heart is particularly called out to the Con...             0  \n",
       "4  By firing the guy you already did more than yo...             0  "
      ]
     },
     "execution_count": 35,
     "metadata": {},
     "output_type": "execute_result"
    }
   ],
   "source": [
    "d.head()"
   ]
  },
  {
   "cell_type": "code",
   "execution_count": 49,
   "id": "b87893d8-a11f-496a-a0f7-f68055e28844",
   "metadata": {
    "collapsed": true,
    "jupyter": {
     "outputs_hidden": true
    },
    "tags": []
   },
   "outputs": [
    {
     "name": "stdout",
     "output_type": "stream",
     "text": [
      "finished batch number1\n",
      "finished batch number2\n",
      "finished batch number3\n",
      "finished batch number4\n",
      "finished batch number5\n",
      "finished batch number6\n",
      "finished batch number7\n",
      "finished batch number8\n",
      "finished batch number9\n",
      "finished batch number10\n",
      "finished batch number11\n",
      "finished batch number12\n",
      "finished batch number13\n",
      "finished batch number14\n",
      "finished batch number15\n",
      "finished batch number16\n",
      "finished batch number17\n",
      "finished batch number18\n",
      "finished batch number19\n",
      "finished batch number20\n",
      "finished batch number21\n",
      "finished batch number22\n",
      "finished batch number23\n",
      "finished batch number24\n",
      "finished batch number25\n",
      "finished batch number26\n",
      "finished batch number27\n",
      "finished batch number28\n",
      "finished batch number29\n",
      "finished batch number30\n",
      "finished batch number31\n",
      "finished batch number32\n",
      "finished batch number33\n",
      "finished batch number34\n",
      "finished batch number35\n",
      "finished batch number36\n",
      "finished batch number37\n",
      "finished batch number38\n",
      "finished batch number39\n",
      "finished batch number40\n",
      "finished batch number41\n",
      "finished batch number42\n",
      "finished batch number43\n",
      "finished batch number44\n",
      "finished batch number45\n",
      "finished batch number46\n",
      "finished batch number47\n",
      "finished batch number48\n",
      "finished batch number49\n",
      "finished batch number50\n",
      "finished batch number51\n",
      "finished batch number52\n",
      "finished batch number53\n",
      "finished batch number54\n",
      "finished batch number55\n",
      "finished batch number56\n",
      "finished batch number57\n",
      "finished batch number58\n",
      "finished batch number59\n",
      "finished batch number60\n",
      "finished batch number61\n",
      "finished batch number62\n",
      "finished batch number63\n",
      "finished batch number64\n",
      "finished batch number65\n",
      "finished batch number66\n",
      "finished batch number67\n",
      "finished batch number68\n",
      "finished batch number69\n",
      "finished batch number70\n",
      "finished batch number71\n",
      "finished batch number72\n",
      "finished batch number73\n",
      "finished batch number74\n",
      "finished batch number75\n",
      "finished batch number76\n",
      "finished batch number77\n",
      "finished batch number78\n",
      "finished batch number79\n",
      "finished batch number80\n",
      "finished batch number81\n",
      "finished batch number82\n",
      "finished batch number83\n",
      "finished batch number84\n",
      "finished batch number85\n",
      "finished batch number86\n",
      "finished batch number87\n",
      "finished batch number88\n",
      "finished batch number89\n",
      "finished batch number90\n",
      "finished batch number91\n",
      "finished batch number92\n",
      "finished batch number93\n",
      "finished batch number94\n",
      "finished batch number95\n",
      "finished batch number96\n",
      "finished batch number97\n",
      "finished batch number98\n",
      "finished batch number99\n",
      "finished batch number100\n",
      "finished batch number101\n",
      "finished batch number102\n",
      "finished batch number103\n",
      "finished batch number104\n",
      "finished batch number105\n",
      "finished batch number106\n",
      "finished batch number107\n",
      "finished batch number108\n",
      "finished batch number109\n",
      "finished batch number110\n",
      "finished batch number111\n",
      "finished batch number112\n",
      "finished batch number113\n",
      "finished batch number114\n",
      "finished batch number115\n",
      "finished batch number116\n",
      "finished batch number117\n",
      "finished batch number118\n",
      "finished batch number119\n",
      "finished batch number120\n",
      "finished batch number121\n",
      "finished batch number122\n",
      "finished batch number123\n",
      "finished batch number124\n",
      "finished batch number125\n",
      "finished batch number126\n",
      "finished batch number127\n",
      "finished batch number128\n",
      "finished batch number129\n",
      "finished batch number130\n",
      "finished batch number131\n",
      "finished batch number132\n",
      "finished batch number133\n",
      "finished batch number134\n",
      "finished batch number135\n",
      "finished batch number136\n",
      "finished batch number137\n",
      "finished batch number138\n",
      "finished batch number139\n",
      "finished batch number140\n",
      "finished batch number141\n",
      "finished batch number142\n",
      "finished batch number143\n",
      "finished batch number144\n",
      "finished batch number145\n",
      "finished batch number146\n",
      "finished batch number147\n",
      "finished batch number148\n",
      "finished batch number149\n",
      "finished batch number150\n",
      "finished batch number151\n",
      "finished batch number152\n",
      "finished batch number153\n",
      "finished batch number154\n",
      "finished batch number155\n",
      "finished batch number156\n",
      "finished batch number157\n",
      "finished batch number158\n",
      "finished batch number159\n",
      "finished batch number160\n",
      "finished batch number161\n",
      "finished batch number162\n",
      "finished batch number163\n",
      "finished batch number164\n",
      "finished batch number165\n",
      "finished batch number166\n",
      "finished batch number167\n",
      "finished batch number168\n",
      "finished batch number169\n",
      "finished batch number170\n",
      "finished batch number171\n",
      "finished batch number172\n",
      "finished batch number173\n",
      "finished batch number174\n",
      "finished batch number175\n",
      "finished batch number176\n",
      "finished batch number177\n",
      "finished batch number178\n",
      "finished batch number179\n",
      "finished batch number180\n",
      "finished batch number181\n",
      "finished batch number182\n",
      "finished batch number183\n",
      "finished batch number184\n",
      "finished batch number185\n",
      "finished batch number186\n",
      "finished batch number187\n",
      "finished batch number188\n",
      "finished batch number189\n",
      "finished batch number190\n",
      "finished batch number191\n",
      "finished batch number192\n",
      "finished batch number193\n",
      "finished batch number194\n",
      "finished batch number195\n",
      "finished batch number196\n",
      "finished batch number197\n",
      "finished batch number198\n",
      "finished batch number199\n",
      "finished batch number200\n",
      "finished batch number201\n",
      "finished batch number202\n",
      "finished batch number203\n",
      "finished batch number204\n",
      "finished batch number205\n",
      "finished batch number206\n",
      "finished batch number207\n",
      "finished batch number208\n",
      "finished batch number209\n",
      "finished batch number210\n",
      "finished batch number211\n",
      "finished batch number212\n",
      "finished batch number213\n",
      "finished batch number214\n",
      "finished batch number215\n",
      "finished batch number216\n",
      "finished batch number217\n",
      "finished batch number218\n",
      "finished batch number219\n",
      "finished batch number220\n"
     ]
    }
   ],
   "source": [
    "questions = [question for question in d.Questions]\n",
    "batch_size = 20\n",
    "question_batches = [questions[i:i + batch_size] for i in range(0, len(questions), batch_size)]\n",
    "\n",
    "response_list = []\n",
    "count = 0\n",
    "for batch in question_batches:\n",
    "    \n",
    "    maries_response = openai.Completion.create(\n",
    "        model = 'text-curie-001',\n",
    "        prompt = batch,\n",
    "        temperature = 0.6,\n",
    "        max_tokens = 250\n",
    "    )\n",
    "   \n",
    "    \n",
    "    batch_response = [res['text'].strip() for res in maries_response['choices']]\n",
    "    \n",
    "    \n",
    "    \n",
    "    response_list += batch_response\n",
    "    count+=1\n",
    "\n",
    "    #sleep time\n",
    "    time.sleep(1)\n",
    "    print(f'finished batch number{count}')\n"
   ]
  },
  {
   "cell_type": "code",
   "execution_count": 50,
   "id": "4804e9ce-0172-45f8-ac4d-5843850fae2e",
   "metadata": {
    "tags": []
   },
   "outputs": [
    {
     "data": {
      "text/plain": [
       "4400"
      ]
     },
     "execution_count": 50,
     "metadata": {},
     "output_type": "execute_result"
    }
   ],
   "source": [
    "len(response_list)"
   ]
  },
  {
   "cell_type": "code",
   "execution_count": 51,
   "id": "6f4cdb35-c390-4612-9b33-a58c51ae8f08",
   "metadata": {
    "tags": []
   },
   "outputs": [
    {
     "name": "stderr",
     "output_type": "stream",
     "text": [
      "C:\\Users\\kalya\\AppData\\Local\\Temp\\ipykernel_8136\\189437120.py:1: SettingWithCopyWarning: \n",
      "A value is trying to be set on a copy of a slice from a DataFrame.\n",
      "Try using .loc[row_indexer,col_indexer] = value instead\n",
      "\n",
      "See the caveats in the documentation: https://pandas.pydata.org/pandas-docs/stable/user_guide/indexing.html#returning-a-view-versus-a-copy\n",
      "  d['Marie_answer'] = response_list\n"
     ]
    }
   ],
   "source": [
    "d['Marie_answer'] = response_list"
   ]
  },
  {
   "cell_type": "code",
   "execution_count": 55,
   "id": "d5fe4b80-d5f4-4c05-967d-cd49bacef0de",
   "metadata": {
    "tags": []
   },
   "outputs": [
    {
     "data": {
      "text/html": [
       "<div>\n",
       "<style scoped>\n",
       "    .dataframe tbody tr th:only-of-type {\n",
       "        vertical-align: middle;\n",
       "    }\n",
       "\n",
       "    .dataframe tbody tr th {\n",
       "        vertical-align: top;\n",
       "    }\n",
       "\n",
       "    .dataframe thead th {\n",
       "        text-align: right;\n",
       "    }\n",
       "</style>\n",
       "<table border=\"1\" class=\"dataframe\">\n",
       "  <thead>\n",
       "    <tr style=\"text-align: right;\">\n",
       "      <th></th>\n",
       "      <th>Unnamed: 0</th>\n",
       "      <th>Subreddit</th>\n",
       "      <th>Questions</th>\n",
       "      <th>Human_Answer</th>\n",
       "      <th>Marie_answer</th>\n",
       "    </tr>\n",
       "  </thead>\n",
       "  <tbody>\n",
       "    <tr>\n",
       "      <th>1096</th>\n",
       "      <td>1096</td>\n",
       "      <td>AskScienceFiction</td>\n",
       "      <td>[Indiana Jones] When Indy saw that the Nazis w...</td>\n",
       "      <td>There are 2 main reasons\\n\\n1) It wasn't a Naz...</td>\n",
       "      <td>Indy's goal was always to find the Ark and sto...</td>\n",
       "    </tr>\n",
       "    <tr>\n",
       "      <th>1097</th>\n",
       "      <td>1097</td>\n",
       "      <td>AskScienceFiction</td>\n",
       "      <td>[Marvel Comics] Why did Norse paganism fade aw...</td>\n",
       "      <td>Canonically, he left the earth in shame over t...</td>\n",
       "      <td>There is no one answer to this question. Some ...</td>\n",
       "    </tr>\n",
       "    <tr>\n",
       "      <th>1098</th>\n",
       "      <td>1098</td>\n",
       "      <td>AskScienceFiction</td>\n",
       "      <td>[Star Wars] Why do people in the Star Wars uni...</td>\n",
       "      <td>Less than 10,000 jedi at their height of power...</td>\n",
       "      <td>The Jedi were disbanded after the death of the...</td>\n",
       "    </tr>\n",
       "    <tr>\n",
       "      <th>1099</th>\n",
       "      <td>1099</td>\n",
       "      <td>AskScienceFiction</td>\n",
       "      <td>[Star Wars] HK-47 mentions focusing on strong ...</td>\n",
       "      <td>Trained Jedi can read your surface thoughts, s...</td>\n",
       "      <td>No, that does not mean attacking while unbelie...</td>\n",
       "    </tr>\n",
       "  </tbody>\n",
       "</table>\n",
       "</div>"
      ],
      "text/plain": [
       "      Unnamed: 0          Subreddit  \\\n",
       "1096        1096  AskScienceFiction   \n",
       "1097        1097  AskScienceFiction   \n",
       "1098        1098  AskScienceFiction   \n",
       "1099        1099  AskScienceFiction   \n",
       "\n",
       "                                              Questions  \\\n",
       "1096  [Indiana Jones] When Indy saw that the Nazis w...   \n",
       "1097  [Marvel Comics] Why did Norse paganism fade aw...   \n",
       "1098  [Star Wars] Why do people in the Star Wars uni...   \n",
       "1099  [Star Wars] HK-47 mentions focusing on strong ...   \n",
       "\n",
       "                                           Human_Answer  \\\n",
       "1096  There are 2 main reasons\\n\\n1) It wasn't a Naz...   \n",
       "1097  Canonically, he left the earth in shame over t...   \n",
       "1098  Less than 10,000 jedi at their height of power...   \n",
       "1099  Trained Jedi can read your surface thoughts, s...   \n",
       "\n",
       "                                           Marie_answer  \n",
       "1096  Indy's goal was always to find the Ark and sto...  \n",
       "1097  There is no one answer to this question. Some ...  \n",
       "1098  The Jedi were disbanded after the death of the...  \n",
       "1099  No, that does not mean attacking while unbelie...  "
      ]
     },
     "execution_count": 55,
     "metadata": {},
     "output_type": "execute_result"
    }
   ],
   "source": [
    "d[1045:1049]"
   ]
  },
  {
   "cell_type": "code",
   "execution_count": 59,
   "id": "116572bf-71b0-4817-8392-a7d441664969",
   "metadata": {
    "tags": []
   },
   "outputs": [
    {
     "data": {
      "text/html": [
       "<div>\n",
       "<style scoped>\n",
       "    .dataframe tbody tr th:only-of-type {\n",
       "        vertical-align: middle;\n",
       "    }\n",
       "\n",
       "    .dataframe tbody tr th {\n",
       "        vertical-align: top;\n",
       "    }\n",
       "\n",
       "    .dataframe thead th {\n",
       "        text-align: right;\n",
       "    }\n",
       "</style>\n",
       "<table border=\"1\" class=\"dataframe\">\n",
       "  <thead>\n",
       "    <tr style=\"text-align: right;\">\n",
       "      <th></th>\n",
       "      <th>Unnamed: 0</th>\n",
       "      <th>Subreddit</th>\n",
       "      <th>Questions</th>\n",
       "      <th>Human_Answer</th>\n",
       "      <th>Marie_answer</th>\n",
       "      <th>human_answer</th>\n",
       "    </tr>\n",
       "  </thead>\n",
       "  <tbody>\n",
       "    <tr>\n",
       "      <th>0</th>\n",
       "      <td>0</td>\n",
       "      <td>TrueAskReddit</td>\n",
       "      <td>Why does the president seem so personally inte...</td>\n",
       "      <td>I've been reading through these comments, and ...</td>\n",
       "      <td>The president has been very interested in acti...</td>\n",
       "      <td>I've been reading through these comments, and ...</td>\n",
       "    </tr>\n",
       "    <tr>\n",
       "      <th>1</th>\n",
       "      <td>1</td>\n",
       "      <td>TrueAskReddit</td>\n",
       "      <td>How did you end up in your career path? Are yo...</td>\n",
       "      <td>i'm a massage therapist. not the seaweed wrap ...</td>\n",
       "      <td>I majored in Political Science and minored in ...</td>\n",
       "      <td>i'm a massage therapist. not the seaweed wrap ...</td>\n",
       "    </tr>\n",
       "    <tr>\n",
       "      <th>2</th>\n",
       "      <td>2</td>\n",
       "      <td>TrueAskReddit</td>\n",
       "      <td>Why does the world come together spending hund...</td>\n",
       "      <td>Being blunt but here are my two big factors:\\n...</td>\n",
       "      <td>The answer is that we have a sense of responsi...</td>\n",
       "      <td>Being blunt but here are my two big factors:\\n...</td>\n",
       "    </tr>\n",
       "    <tr>\n",
       "      <th>3</th>\n",
       "      <td>3</td>\n",
       "      <td>TrueAskReddit</td>\n",
       "      <td>What atrocities are occurring around the world...</td>\n",
       "      <td>My heart is particularly called out to the Con...</td>\n",
       "      <td>There are many atrocities occurring around the...</td>\n",
       "      <td>My heart is particularly called out to the Con...</td>\n",
       "    </tr>\n",
       "    <tr>\n",
       "      <th>4</th>\n",
       "      <td>4</td>\n",
       "      <td>TrueAskReddit</td>\n",
       "      <td>How can a male boss better lookout and protect...</td>\n",
       "      <td>By firing the guy you already did more than yo...</td>\n",
       "      <td>The best way for a male boss to better lookout...</td>\n",
       "      <td>By firing the guy you already did more than yo...</td>\n",
       "    </tr>\n",
       "  </tbody>\n",
       "</table>\n",
       "</div>"
      ],
      "text/plain": [
       "   Unnamed: 0      Subreddit  \\\n",
       "0           0  TrueAskReddit   \n",
       "1           1  TrueAskReddit   \n",
       "2           2  TrueAskReddit   \n",
       "3           3  TrueAskReddit   \n",
       "4           4  TrueAskReddit   \n",
       "\n",
       "                                           Questions  \\\n",
       "0  Why does the president seem so personally inte...   \n",
       "1  How did you end up in your career path? Are yo...   \n",
       "2  Why does the world come together spending hund...   \n",
       "3  What atrocities are occurring around the world...   \n",
       "4  How can a male boss better lookout and protect...   \n",
       "\n",
       "                                        Human_Answer  \\\n",
       "0  I've been reading through these comments, and ...   \n",
       "1  i'm a massage therapist. not the seaweed wrap ...   \n",
       "2  Being blunt but here are my two big factors:\\n...   \n",
       "3  My heart is particularly called out to the Con...   \n",
       "4  By firing the guy you already did more than yo...   \n",
       "\n",
       "                                        Marie_answer  \\\n",
       "0  The president has been very interested in acti...   \n",
       "1  I majored in Political Science and minored in ...   \n",
       "2  The answer is that we have a sense of responsi...   \n",
       "3  There are many atrocities occurring around the...   \n",
       "4  The best way for a male boss to better lookout...   \n",
       "\n",
       "                                        human_answer  \n",
       "0  I've been reading through these comments, and ...  \n",
       "1  i'm a massage therapist. not the seaweed wrap ...  \n",
       "2  Being blunt but here are my two big factors:\\n...  \n",
       "3  My heart is particularly called out to the Con...  \n",
       "4  By firing the guy you already did more than yo...  "
      ]
     },
     "execution_count": 59,
     "metadata": {},
     "output_type": "execute_result"
    }
   ],
   "source": [
    "d.head()"
   ]
  },
  {
   "cell_type": "code",
   "execution_count": 57,
   "id": "e27bc49c-ed7d-4970-a66d-ea53f04eb0fb",
   "metadata": {
    "tags": []
   },
   "outputs": [],
   "source": [
    "d.to_csv('data/gpt_answers_v1.csv')"
   ]
  }
 ],
 "metadata": {
  "kernelspec": {
   "display_name": "Python 3 (ipykernel)",
   "language": "python",
   "name": "python3"
  },
  "language_info": {
   "codemirror_mode": {
    "name": "ipython",
    "version": 3
   },
   "file_extension": ".py",
   "mimetype": "text/x-python",
   "name": "python",
   "nbconvert_exporter": "python",
   "pygments_lexer": "ipython3",
   "version": "3.11.5"
  }
 },
 "nbformat": 4,
 "nbformat_minor": 5
}

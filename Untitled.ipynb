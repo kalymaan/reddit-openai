{
 "cells": [
  {
   "cell_type": "code",
   "execution_count": 1,
   "id": "dc790ca3-8921-498f-9567-eeec0f3182ba",
   "metadata": {
    "tags": []
   },
   "outputs": [],
   "source": [
    "import praw"
   ]
  },
  {
   "cell_type": "code",
   "execution_count": 2,
   "id": "679be89d-9371-4c3a-8cf0-76287ae84b44",
   "metadata": {
    "tags": []
   },
   "outputs": [],
   "source": [
    "reddit = praw.Reddit()"
   ]
  },
  {
   "cell_type": "code",
   "execution_count": 3,
   "id": "ebf0500c-f64d-41a8-83fc-f63dd91ab875",
   "metadata": {},
   "outputs": [],
   "source": [
    "my_subreddit = 'NoStupidQuestions'"
   ]
  },
  {
   "cell_type": "code",
   "execution_count": 6,
   "id": "7957a42e-86d6-4824-adb8-3f075b87c11c",
   "metadata": {
    "tags": []
   },
   "outputs": [
    {
     "name": "stdout",
     "output_type": "stream",
     "text": [
      "Question 1: what’s the point of having fast cars if you have to drive the speed limit anyway?\n",
      "Answer 1: I live in Vietnam and see exotic \"super\" cars quite often. There's literally no streets in Vietnam where you could actually get one of those cars out of second gear!\n",
      "\n",
      "Question 2: I get boners when i hug guys how do i stop it\n",
      "Answer 2: You're 15, so you've got raging hormones. Is there any way you can not hug your male friends?\n",
      "\n",
      "Question 3: My (30m) fiancé (29) wants to live on a farm, am I over thinking how much work that is?\n",
      "Answer 3: So, my horse lives on a friend’s small farm with a few other horses, some chickens, dogs, & cats.  The first time I went out there I was like “Yes.  This is what I want for my life.”\n",
      "  \n",
      "  \n",
      "Then she asked me to farm sit for a weekend and FUUUUUCK THAT.\n",
      "  \n",
      "  \n",
      "It’s SO MUCH WORK.  Are you tired?  Up at 5, animals need to eat.  Are you sick?  Up at 5, animals need to eat.  Do you want to go out to dinner, a movie, or any social event?  Gotta plan it around the animals eating.  Did you ever want to travel?  Ha!  \n",
      "  \n",
      "And there is a constant stream of things that need doing, fixing, repairing, cleaning.  Water troughs are dirty, horses won’t drink if the water smells.  Chicken died, gotta clean the coop.  Don’t let the dogs out with the chickens or they’ll kill them.  Is that a coyote just beyond the fence line?  Heavy rain just made the ground soggy & a fence post broke, better fix it before the animals escape.  \n",
      "  \n",
      "  It seriously makes me understand why people used to have like 12 kids - they legit need the help on a farm!\n",
      "\n",
      "Question 4: What is your most embarrassing nsfw moment?\n",
      "Answer 4: My dad walked in on me eating out my gf when I was 17. Was so weird until the next day he said how sorry he is for my ex at the time and wants her to still feel welcome in our house and gave me knucks for seeing that  I’ll go down on a girl lol\n",
      "\n",
      "Question 5: Do people actually cheat unintentionally? I found it stupid when they say \" It just happened\" .\n",
      "Answer 5: What they mean to say is they got caught up in the moment.  Which is also stupid.  It's just a way of minimizing their agency in the whole situation to push away responsibility for their own actions.\n",
      "\n"
     ]
    }
   ],
   "source": [
    "# Create an empty list to store question-answer pairs\n",
    "qa_pairs = []\n",
    "\n",
    "# Loop through submissions in the subreddit\n",
    "for submission in reddit.subreddit(my_subreddit).hot(limit=1000):\n",
    "    # Ensure the submission has a title and comments\n",
    "    if submission.title and submission.comments:\n",
    "        question = submission.title\n",
    "        top_comment = submission.comments[0]  # Get the most upvoted comment\n",
    "        \n",
    "        # Check if the top comment is a valid answer (not empty or removed)\n",
    "        if top_comment.body and not top_comment.body == '[removed]':\n",
    "            answer = top_comment.body\n",
    "            qa_pairs.append((question, answer))\n",
    "\n",
    "        # Break the loop if you have collected 500 pairs\n",
    "        if len(qa_pairs) >= 500:\n",
    "            break\n",
    "\n",
    "# Print the first few question-answer pairs\n",
    "for i, (question, answer) in enumerate(qa_pairs[:5], 1):\n",
    "    print(f\"Question {i}: {question}\")\n",
    "    print(f\"Answer {i}: {answer}\")\n",
    "    print()\n",
    "\n",
    "# You now have 500 question-answer pairs in the qa_pairs list"
   ]
  },
  {
   "cell_type": "code",
   "execution_count": 4,
   "id": "3c2af73e-7bad-43db-8a64-6dae585edb78",
   "metadata": {
    "tags": []
   },
   "outputs": [],
   "source": [
    "posts = reddit.subreddit(my_subreddit).hot(limit=10)"
   ]
  },
  {
   "cell_type": "code",
   "execution_count": 5,
   "id": "a9566ada-2ebd-4eb5-85ec-fd3bffad4d32",
   "metadata": {
    "tags": []
   },
   "outputs": [
    {
     "data": {
      "text/plain": [
       "praw.models.listing.generator.ListingGenerator"
      ]
     },
     "execution_count": 5,
     "metadata": {},
     "output_type": "execute_result"
    }
   ],
   "source": [
    "type(posts)"
   ]
  },
  {
   "cell_type": "code",
   "execution_count": 6,
   "id": "1aaab69c-376e-41dc-9a1f-42f6067a35b6",
   "metadata": {},
   "outputs": [],
   "source": [
    "posts_list = []\n",
    "\n",
    "for post in posts:\n",
    "    posts_list.append(\n",
    "        {'title': post.title,\n",
    "         'selftext': post.selftext,\n",
    "         'subreddit': post.subreddit,\n",
    "         'comments': post.comments,\n",
    "         'created_utc': post.created_utc\n",
    "        }\n",
    "    )"
   ]
  },
  {
   "cell_type": "code",
   "execution_count": 8,
   "id": "5c50b2fa-b2d4-4eeb-bae8-1ddef2f76ab3",
   "metadata": {},
   "outputs": [
    {
     "data": {
      "text/plain": [
       "{'title': \"My brother (28M) started dating his old high school teacher (34F). My family is supportive of the relationship but I'm extremely icked out by it. Am I being unreasonable?\",\n",
       " 'selftext': 'They randomly bumped into each other at a bar earlier this year. I find it particularly icky because he said she was a little flirty with him back in high school. My sister defended him by saying that \"all young female teachers playfully flirt with senior boys in a harmless way\". I mean WTFFFF, that\\'s not normal behavior right???\\n\\nUPDATE 1: Ok, I concede and I accept that I am being unreasonable. I will support my brother\\'s relationship going forward. Nevertheless, I still find my sister\\'s comment extremely disturbing.\\n\\nUPDATE 2: hmm... I texted my bro saying sorry. He said he can share me a nude of her because he bets I\\'m curious what she looks like naked. Yeah, I\\'m starting to think my brother is actually the creep in this relationship.',\n",
       " 'subreddit': Subreddit(display_name='NoStupidQuestions'),\n",
       " 'comments': <praw.models.comment_forest.CommentForest at 0x2b1b3a9f890>,\n",
       " 'created_utc': 1695130753.0}"
      ]
     },
     "execution_count": 8,
     "metadata": {},
     "output_type": "execute_result"
    }
   ],
   "source": [
    "posts_list[0]"
   ]
  },
  {
   "cell_type": "code",
   "execution_count": 15,
   "id": "2b18960a-6026-40b7-9bc8-088ab9692294",
   "metadata": {
    "tags": []
   },
   "outputs": [
    {
     "data": {
      "text/plain": [
       "<praw.models.comment_forest.CommentForest at 0x2d08b392910>"
      ]
     },
     "execution_count": 15,
     "metadata": {},
     "output_type": "execute_result"
    }
   ],
   "source": [
    "posts_list[0]['comments']"
   ]
  },
  {
   "cell_type": "code",
   "execution_count": 17,
   "id": "8c304b0c-8001-463d-860c-10064f0bb73b",
   "metadata": {
    "tags": []
   },
   "outputs": [
    {
     "ename": "AttributeError",
     "evalue": "'Comment' object has no attribute 'count'",
     "output_type": "error",
     "traceback": [
      "\u001b[1;31m---------------------------------------------------------------------------\u001b[0m",
      "\u001b[1;31mAttributeError\u001b[0m                            Traceback (most recent call last)",
      "Cell \u001b[1;32mIn[17], line 3\u001b[0m\n\u001b[0;32m      1\u001b[0m highest_ups \u001b[38;5;241m=\u001b[39m \u001b[38;5;241m-\u001b[39m\u001b[38;5;241m1\u001b[39m\n\u001b[0;32m      2\u001b[0m \u001b[38;5;28;01mfor\u001b[39;00m comment \u001b[38;5;129;01min\u001b[39;00m posts_list[\u001b[38;5;241m0\u001b[39m][\u001b[38;5;124m'\u001b[39m\u001b[38;5;124mcomments\u001b[39m\u001b[38;5;124m'\u001b[39m]:\n\u001b[1;32m----> 3\u001b[0m     \u001b[38;5;28;01mif\u001b[39;00m comment\u001b[38;5;241m.\u001b[39mcount \u001b[38;5;241m>\u001b[39m highest_ups:\n\u001b[0;32m      4\u001b[0m         best_comment \u001b[38;5;241m=\u001b[39m comment\u001b[38;5;241m.\u001b[39mbody\n\u001b[0;32m      5\u001b[0m         highest_ups \u001b[38;5;241m=\u001b[39m comment\u001b[38;5;241m.\u001b[39mups\n",
      "File \u001b[1;32m~\\anaconda3\\Lib\\site-packages\\praw\\models\\reddit\\base.py:37\u001b[0m, in \u001b[0;36mRedditBase.__getattr__\u001b[1;34m(self, attribute)\u001b[0m\n\u001b[0;32m     35\u001b[0m     \u001b[38;5;28mself\u001b[39m\u001b[38;5;241m.\u001b[39m_fetch()\n\u001b[0;32m     36\u001b[0m     \u001b[38;5;28;01mreturn\u001b[39;00m \u001b[38;5;28mgetattr\u001b[39m(\u001b[38;5;28mself\u001b[39m, attribute)\n\u001b[1;32m---> 37\u001b[0m \u001b[38;5;28;01mraise\u001b[39;00m \u001b[38;5;167;01mAttributeError\u001b[39;00m(\n\u001b[0;32m     38\u001b[0m     \u001b[38;5;124mf\u001b[39m\u001b[38;5;124m\"\u001b[39m\u001b[38;5;132;01m{\u001b[39;00m\u001b[38;5;28mself\u001b[39m\u001b[38;5;241m.\u001b[39m\u001b[38;5;18m__class__\u001b[39m\u001b[38;5;241m.\u001b[39m\u001b[38;5;18m__name__\u001b[39m\u001b[38;5;132;01m!r}\u001b[39;00m\u001b[38;5;124m object has no attribute \u001b[39m\u001b[38;5;132;01m{\u001b[39;00mattribute\u001b[38;5;132;01m!r}\u001b[39;00m\u001b[38;5;124m\"\u001b[39m\n\u001b[0;32m     39\u001b[0m )\n",
      "\u001b[1;31mAttributeError\u001b[0m: 'Comment' object has no attribute 'count'"
     ]
    }
   ],
   "source": [
    "highest_ups = -1\n",
    "for comment in posts_list[0]['comments']:\n",
    "    if comment.count > highest_ups:\n",
    "        best_comment = comment.body\n",
    "        highest_ups = comment.ups\n",
    "print(highest_ups, best_comment)"
   ]
  }
 ],
 "metadata": {
  "kernelspec": {
   "display_name": "Python 3 (ipykernel)",
   "language": "python",
   "name": "python3"
  },
  "language_info": {
   "codemirror_mode": {
    "name": "ipython",
    "version": 3
   },
   "file_extension": ".py",
   "mimetype": "text/x-python",
   "name": "python",
   "nbconvert_exporter": "python",
   "pygments_lexer": "ipython3",
   "version": "3.11.4"
  }
 },
 "nbformat": 4,
 "nbformat_minor": 5
}

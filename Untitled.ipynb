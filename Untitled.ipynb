{
 "cells": [
  {
   "cell_type": "code",
   "execution_count": 1,
   "id": "dc790ca3-8921-498f-9567-eeec0f3182ba",
   "metadata": {
    "tags": []
   },
   "outputs": [],
   "source": [
    "import praw"
   ]
  },
  {
   "cell_type": "code",
   "execution_count": 2,
   "id": "679be89d-9371-4c3a-8cf0-76287ae84b44",
   "metadata": {
    "tags": []
   },
   "outputs": [],
   "source": [
    "reddit = praw.Reddit()"
   ]
  },
  {
   "cell_type": "code",
   "execution_count": 3,
   "id": "ebf0500c-f64d-41a8-83fc-f63dd91ab875",
   "metadata": {},
   "outputs": [],
   "source": [
    "my_subreddit = 'NoStupidQuestions'"
   ]
  },
  {
   "cell_type": "code",
   "execution_count": 9,
   "id": "3c2af73e-7bad-43db-8a64-6dae585edb78",
   "metadata": {
    "tags": []
   },
   "outputs": [],
   "source": [
    "posts = reddit.subreddit(my_subreddit).hot(limit=10)"
   ]
  },
  {
   "cell_type": "code",
   "execution_count": 10,
   "id": "a9566ada-2ebd-4eb5-85ec-fd3bffad4d32",
   "metadata": {
    "tags": []
   },
   "outputs": [
    {
     "data": {
      "text/plain": [
       "praw.models.listing.generator.ListingGenerator"
      ]
     },
     "execution_count": 10,
     "metadata": {},
     "output_type": "execute_result"
    }
   ],
   "source": [
    "type(posts)"
   ]
  },
  {
   "cell_type": "code",
   "execution_count": 11,
   "id": "1aaab69c-376e-41dc-9a1f-42f6067a35b6",
   "metadata": {},
   "outputs": [],
   "source": [
    "posts_list = []\n",
    "\n",
    "for post in posts:\n",
    "    posts_list.append(\n",
    "        {'title': post.title,\n",
    "         'selftext': post.selftext,\n",
    "         'subreddit': post.subreddit,\n",
    "         'comments': post.comments,\n",
    "         'created_utc': post.created_utc\n",
    "        }\n",
    "    )"
   ]
  },
  {
   "cell_type": "code",
   "execution_count": 8,
   "id": "5c50b2fa-b2d4-4eeb-bae8-1ddef2f76ab3",
   "metadata": {},
   "outputs": [
    {
     "data": {
      "text/plain": [
       "{'title': 'Is it ok to make a take away lunch at a hotel breakfast buffet?',\n",
       " 'selftext': \"The other day I stayed in a hotel with friends. We had the hotel breakfast buffet. To my big suprise, half way through the meal they pulled out tupperware boxes and started making lunch. I was completely surprised. Yes, the buffet was expensive, but this felt like 'cheating' to me. What is the etiquette here? Is this a normal thing to do?\",\n",
       " 'subreddit': Subreddit(display_name='NoStupidQuestions'),\n",
       " 'comments': <praw.models.comment_forest.CommentForest at 0x2d088931110>,\n",
       " 'created_utc': 1695033977.0}"
      ]
     },
     "execution_count": 8,
     "metadata": {},
     "output_type": "execute_result"
    }
   ],
   "source": [
    "posts_list[0]"
   ]
  },
  {
   "cell_type": "code",
   "execution_count": 15,
   "id": "2b18960a-6026-40b7-9bc8-088ab9692294",
   "metadata": {
    "tags": []
   },
   "outputs": [
    {
     "data": {
      "text/plain": [
       "<praw.models.comment_forest.CommentForest at 0x2d08b392910>"
      ]
     },
     "execution_count": 15,
     "metadata": {},
     "output_type": "execute_result"
    }
   ],
   "source": [
    "posts_list[0]['comments']"
   ]
  },
  {
   "cell_type": "code",
   "execution_count": 17,
   "id": "8c304b0c-8001-463d-860c-10064f0bb73b",
   "metadata": {
    "tags": []
   },
   "outputs": [
    {
     "ename": "AttributeError",
     "evalue": "'Comment' object has no attribute 'count'",
     "output_type": "error",
     "traceback": [
      "\u001b[1;31m---------------------------------------------------------------------------\u001b[0m",
      "\u001b[1;31mAttributeError\u001b[0m                            Traceback (most recent call last)",
      "Cell \u001b[1;32mIn[17], line 3\u001b[0m\n\u001b[0;32m      1\u001b[0m highest_ups \u001b[38;5;241m=\u001b[39m \u001b[38;5;241m-\u001b[39m\u001b[38;5;241m1\u001b[39m\n\u001b[0;32m      2\u001b[0m \u001b[38;5;28;01mfor\u001b[39;00m comment \u001b[38;5;129;01min\u001b[39;00m posts_list[\u001b[38;5;241m0\u001b[39m][\u001b[38;5;124m'\u001b[39m\u001b[38;5;124mcomments\u001b[39m\u001b[38;5;124m'\u001b[39m]:\n\u001b[1;32m----> 3\u001b[0m     \u001b[38;5;28;01mif\u001b[39;00m comment\u001b[38;5;241m.\u001b[39mcount \u001b[38;5;241m>\u001b[39m highest_ups:\n\u001b[0;32m      4\u001b[0m         best_comment \u001b[38;5;241m=\u001b[39m comment\u001b[38;5;241m.\u001b[39mbody\n\u001b[0;32m      5\u001b[0m         highest_ups \u001b[38;5;241m=\u001b[39m comment\u001b[38;5;241m.\u001b[39mups\n",
      "File \u001b[1;32m~\\anaconda3\\Lib\\site-packages\\praw\\models\\reddit\\base.py:37\u001b[0m, in \u001b[0;36mRedditBase.__getattr__\u001b[1;34m(self, attribute)\u001b[0m\n\u001b[0;32m     35\u001b[0m     \u001b[38;5;28mself\u001b[39m\u001b[38;5;241m.\u001b[39m_fetch()\n\u001b[0;32m     36\u001b[0m     \u001b[38;5;28;01mreturn\u001b[39;00m \u001b[38;5;28mgetattr\u001b[39m(\u001b[38;5;28mself\u001b[39m, attribute)\n\u001b[1;32m---> 37\u001b[0m \u001b[38;5;28;01mraise\u001b[39;00m \u001b[38;5;167;01mAttributeError\u001b[39;00m(\n\u001b[0;32m     38\u001b[0m     \u001b[38;5;124mf\u001b[39m\u001b[38;5;124m\"\u001b[39m\u001b[38;5;132;01m{\u001b[39;00m\u001b[38;5;28mself\u001b[39m\u001b[38;5;241m.\u001b[39m\u001b[38;5;18m__class__\u001b[39m\u001b[38;5;241m.\u001b[39m\u001b[38;5;18m__name__\u001b[39m\u001b[38;5;132;01m!r}\u001b[39;00m\u001b[38;5;124m object has no attribute \u001b[39m\u001b[38;5;132;01m{\u001b[39;00mattribute\u001b[38;5;132;01m!r}\u001b[39;00m\u001b[38;5;124m\"\u001b[39m\n\u001b[0;32m     39\u001b[0m )\n",
      "\u001b[1;31mAttributeError\u001b[0m: 'Comment' object has no attribute 'count'"
     ]
    }
   ],
   "source": [
    "highest_ups = -1\n",
    "for comment in posts_list[0]['comments']:\n",
    "    if comment.count > highest_ups:\n",
    "        best_comment = comment.body\n",
    "        highest_ups = comment.ups\n",
    "print(highest_ups, best_comment)"
   ]
  }
 ],
 "metadata": {
  "kernelspec": {
   "display_name": "Python 3 (ipykernel)",
   "language": "python",
   "name": "python3"
  },
  "language_info": {
   "codemirror_mode": {
    "name": "ipython",
    "version": 3
   },
   "file_extension": ".py",
   "mimetype": "text/x-python",
   "name": "python",
   "nbconvert_exporter": "python",
   "pygments_lexer": "ipython3",
   "version": "3.11.4"
  }
 },
 "nbformat": 4,
 "nbformat_minor": 5
}
